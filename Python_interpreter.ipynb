{
  "nbformat": 4,
  "nbformat_minor": 0,
  "metadata": {
    "colab": {
      "provenance": []
    },
    "kernelspec": {
      "name": "python3",
      "display_name": "Python 3"
    },
    "language_info": {
      "name": "python"
    }
  },
  "cells": [
    {
      "cell_type": "code",
      "execution_count": 1,
      "metadata": {
        "id": "rKOMZ9HiLrgH"
      },
      "outputs": [],
      "source": [
        "import re\n",
        "\n",
        "# Define token types\n",
        "TOKEN_SPEC = [\n",
        "    ('PRINT', r'print'),          # Print keyword\n",
        "    ('NUMBER', r'\\d+'),           # Integer\n",
        "    ('IDENTIFIER', r'[a-zA-Z_]\\w*'),  # Variable names\n",
        "    ('ASSIGN', r'='),             # Assignment operator\n",
        "    ('PLUS', r'\\+'),              # Addition\n",
        "    ('MINUS', r'-'),              # Subtraction\n",
        "    ('MULTIPLY', r'\\*'),          # Multiplication\n",
        "    ('DIVIDE', r'/'),             # Division\n",
        "    ('MODULUS', r'%'),            # Modulus\n",
        "    ('LPAREN', r'\\('),            # Left parenthesis\n",
        "    ('RPAREN', r'\\)'),            # Right parenthesis\n",
        "    ('SEMICOLON', r';'),          # End of statement\n",
        "    ('SKIP', r'[ \\t]+'),          # Skip spaces and tabs\n",
        "    ('MISMATCH', r'.')            # Any other character\n",
        "]\n",
        "\n",
        "TOKEN_REGEX = '|'.join(f'(?P<{name}>{pattern})' for name, pattern in TOKEN_SPEC)\n",
        "\n",
        "def tokenize(code):\n",
        "    tokens = []\n",
        "    position = 0\n",
        "    for match in re.finditer(TOKEN_REGEX, code):\n",
        "        kind = match.lastgroup\n",
        "        value = match.group()\n",
        "        if kind == 'SKIP':\n",
        "            position += len(value)  # Skip whitespace but track position\n",
        "            continue\n",
        "        elif kind == 'MISMATCH':\n",
        "            raise SyntaxError(f\"Unexpected character: {value} at position {position}\")\n",
        "        tokens.append((kind, value))\n",
        "        position += len(value)\n",
        "    return tokens\n"
      ]
    },
    {
      "cell_type": "code",
      "source": [
        "class ASTNode:\n",
        "    pass\n",
        "\n",
        "class AssignNode(ASTNode):\n",
        "    def __init__(self, name, value):\n",
        "        self.name = name\n",
        "        self.value = value\n",
        "\n",
        "class BinOpNode(ASTNode):\n",
        "    def __init__(self, left, op, right):\n",
        "        self.left = left\n",
        "        self.op = op\n",
        "        self.right = right\n",
        "\n",
        "class PrintNode(ASTNode):\n",
        "    def __init__(self, value):\n",
        "        self.value = value\n",
        "\n",
        "class NumberNode(ASTNode):\n",
        "    def __init__(self, value):\n",
        "        self.value = value\n",
        "\n",
        "class VariableNode(ASTNode):\n",
        "    def __init__(self, name):\n",
        "        self.name = name\n"
      ],
      "metadata": {
        "id": "fEzW_25-L4oE"
      },
      "execution_count": 2,
      "outputs": []
    },
    {
      "cell_type": "code",
      "source": [
        "class Parser:\n",
        "    def __init__(self, tokens):\n",
        "        self.tokens = tokens\n",
        "        self.pos = 0\n",
        "\n",
        "    def consume(self, expected_type):\n",
        "        if self.pos < len(self.tokens) and self.tokens[self.pos][0] == expected_type:\n",
        "            token = self.tokens[self.pos]\n",
        "            self.pos += 1\n",
        "            return token\n",
        "        if self.pos < len(self.tokens):\n",
        "            token = self.tokens[self.pos]\n",
        "            raise SyntaxError(f\"Expected {expected_type}, but found {token[1]} at position {self.pos}\")\n",
        "        else:\n",
        "            raise SyntaxError(f\"Unexpected end of input; expected {expected_type}\")\n",
        "\n",
        "    def parse(self):\n",
        "        statements = []\n",
        "        while self.pos < len(self.tokens):\n",
        "            if self.tokens[self.pos][0] == 'IDENTIFIER':\n",
        "                statements.append(self.parse_assignment())\n",
        "            elif self.tokens[self.pos][0] == 'PRINT':\n",
        "                statements.append(self.parse_print())\n",
        "            else:\n",
        "                token = self.tokens[self.pos]\n",
        "                raise SyntaxError(f\"Unexpected token: {token[1]} at position {self.pos}\")\n",
        "        return statements\n",
        "\n",
        "    def parse_assignment(self):\n",
        "        var_name = self.consume('IDENTIFIER')[1]\n",
        "        self.consume('ASSIGN')\n",
        "        value = self.parse_expression()\n",
        "        self.consume('SEMICOLON')\n",
        "        return AssignNode(var_name, value)\n",
        "\n",
        "    def parse_print(self):\n",
        "        self.consume('PRINT')\n",
        "        value = self.parse_expression()\n",
        "        self.consume('SEMICOLON')\n",
        "        return PrintNode(value)\n",
        "\n",
        "    def parse_expression(self):\n",
        "        if self.pos >= len(self.tokens):\n",
        "            raise SyntaxError(\"Incomplete expression: unexpected end of input\")\n",
        "        left = self.parse_term()\n",
        "        while self.pos < len(self.tokens) and self.tokens[self.pos][0] in ('PLUS', 'MINUS'):\n",
        "            op = self.consume(self.tokens[self.pos][0])[0]\n",
        "            if self.pos >= len(self.tokens) or self.tokens[self.pos][0] not in ('NUMBER', 'IDENTIFIER', 'LPAREN'):\n",
        "                raise SyntaxError(f\"Expected a term after operator {op}, but found {self.tokens[self.pos][1]} at position {self.pos}\")\n",
        "            right = self.parse_term()\n",
        "            left = BinOpNode(left, op, right)\n",
        "        return left\n",
        "\n",
        "    def parse_term(self):\n",
        "        left = self.parse_factor()\n",
        "        while self.pos < len(self.tokens) and self.tokens[self.pos][0] in ('MULTIPLY', 'DIVIDE', 'MODULUS'):\n",
        "            op = self.consume(self.tokens[self.pos][0])[0]\n",
        "            if self.pos >= len(self.tokens) or self.tokens[self.pos][0] not in ('NUMBER', 'IDENTIFIER', 'LPAREN'):\n",
        "                raise SyntaxError(f\"Expected a term after operator {op}, but found {self.tokens[self.pos][1]} at position {self.pos}\")\n",
        "            right = self.parse_factor()\n",
        "            left = BinOpNode(left, op, right)\n",
        "        return left\n",
        "\n",
        "    def parse_factor(self):\n",
        "        if self.pos >= len(self.tokens):\n",
        "            raise SyntaxError(\"Incomplete expression: expected a factor but found end of input\")\n",
        "        token = self.tokens[self.pos]\n",
        "        if token[0] == 'NUMBER':\n",
        "            self.consume('NUMBER')\n",
        "            return NumberNode(int(token[1]))\n",
        "        elif token[0] == 'IDENTIFIER':\n",
        "            self.consume('IDENTIFIER')\n",
        "            return VariableNode(token[1])\n",
        "        elif token[0] == 'LPAREN':\n",
        "            self.consume('LPAREN')\n",
        "            expr = self.parse_expression()  # Parse the inner expression\n",
        "            if self.pos >= len(self.tokens) or self.tokens[self.pos][0] != 'RPAREN':\n",
        "                raise SyntaxError(f\"Missing closing parenthesis for expression starting at position {self.pos - 1}\")\n",
        "            self.consume('RPAREN')\n",
        "            return expr\n",
        "        else:\n",
        "            raise SyntaxError(f\"Invalid factor: {token[1]} at position {self.pos}\")\n"
      ],
      "metadata": {
        "id": "XLRYida_MEVj"
      },
      "execution_count": 3,
      "outputs": []
    },
    {
      "cell_type": "code",
      "source": [
        "class Interpreter:\n",
        "    def __init__(self):\n",
        "        self.variables = {}\n",
        "\n",
        "    def execute(self, nodes):\n",
        "        for node in nodes:\n",
        "            if isinstance(node, AssignNode):\n",
        "                value = self.evaluate(node.value)\n",
        "                self.variables[node.name] = value\n",
        "            elif isinstance(node, PrintNode):\n",
        "                result = self.evaluate(node.value)\n",
        "                print(result)\n",
        "\n",
        "    def evaluate(self, node):\n",
        "        if isinstance(node, NumberNode):\n",
        "            return node.value\n",
        "        elif isinstance(node, VariableNode):\n",
        "            value = self.variables.get(node.name)\n",
        "            if value is None:\n",
        "                raise NameError(f\"Undefined variable: {node.name}\")\n",
        "            return value\n",
        "        elif isinstance(node, BinOpNode):\n",
        "            left = self.evaluate(node.left)\n",
        "            right = self.evaluate(node.right)\n",
        "            if node.op == 'PLUS':\n",
        "                return left + right\n",
        "            elif node.op == 'MINUS':\n",
        "                return left - right\n",
        "            elif node.op == 'MULTIPLY':\n",
        "                return left * right\n",
        "            elif node.op == 'DIVIDE':\n",
        "                if right == 0:\n",
        "                    raise ZeroDivisionError(\"Division by zero is not allowed\")\n",
        "                return left / right\n",
        "            elif node.op == 'MODULUS':\n",
        "                if right == 0:\n",
        "                    raise ZeroDivisionError(\"Modulus by zero is not allowed\")\n",
        "                return left % right\n",
        "            else:\n",
        "                raise ValueError(f\"Unsupported operator: {node.op}\")\n",
        "        else:\n",
        "            raise ValueError(f\"Unknown node type: {node}\")"
      ],
      "metadata": {
        "id": "ZgUGNLAwMHG3"
      },
      "execution_count": 4,
      "outputs": []
    },
    {
      "cell_type": "code",
      "source": [
        "# Test Case 1: Basic Arithmetic\n",
        "\n",
        "code = \"\"\"\n",
        "x = 10;\n",
        "y = x + 5;\n",
        "z = y * 2;\n",
        "print(z);\n",
        "\"\"\"\n",
        "# Expected Output:\n",
        "# 30\n"
      ],
      "metadata": {
        "id": "BFpmDxmtMHni"
      },
      "execution_count": 5,
      "outputs": []
    },
    {
      "cell_type": "code",
      "source": [
        "# Test Case 2: Division and Modulus\n",
        "\n",
        "code = \"\"\"\n",
        "a = 20 / 5;\n",
        "b = 23 % 5;\n",
        "print(a);\n",
        "print(b);\n",
        "\"\"\"\n",
        "# Expected Output:\n",
        "# 4.0\n",
        "# 3\n"
      ],
      "metadata": {
        "id": "9h4UF6_mM9EM"
      },
      "execution_count": 159,
      "outputs": []
    },
    {
      "cell_type": "code",
      "source": [
        "# Test Case 3: Parentheses and Operator Precedence\n",
        "\n",
        "code = \"\"\"\n",
        "x = (10 + 5) * (2 + 3);\n",
        "y = x / (10 - 8);\n",
        "print(x);\n",
        "print(y);\n",
        "\"\"\"\n",
        "# Expected Output:\n",
        "# 75\n",
        "# 37.5\n"
      ],
      "metadata": {
        "id": "uoPpA4HDVzVV"
      },
      "execution_count": 161,
      "outputs": []
    },
    {
      "cell_type": "code",
      "source": [
        "# Test Case 4: Undefined Variable\n",
        "\n",
        "code = \"\"\"\n",
        "x = 10;\n",
        "print(y);\n",
        "\"\"\"\n",
        "# Expected Error:\n",
        "# NameError: Undefined variable: y\n"
      ],
      "metadata": {
        "id": "BLtbkN7jhSal"
      },
      "execution_count": 163,
      "outputs": []
    },
    {
      "cell_type": "code",
      "source": [
        "# Test Case 5: Division by Zero\n",
        "\n",
        "code = \"\"\"\n",
        "x = 10 / 0;\n",
        "print(x);\n",
        "\"\"\"\n",
        "# Expected Error:\n",
        "# ZeroDivisionError: Division by zero is not allowed\n"
      ],
      "metadata": {
        "id": "4Bz4WF3GhXI9"
      },
      "execution_count": 165,
      "outputs": []
    },
    {
      "cell_type": "code",
      "source": [
        "# Test Case 6: Modulus by Zero\n",
        "\n",
        "code = \"\"\"\n",
        "x = 10 % 0;\n",
        "print(x);\n",
        "\"\"\"\n",
        "# Expected Error:\n",
        "# ZeroDivisionError: Modulus by zero is not allowed\n"
      ],
      "metadata": {
        "id": "JofxNrZrhcs7"
      },
      "execution_count": 167,
      "outputs": []
    },
    {
      "cell_type": "code",
      "source": [
        "# Test Case 7: Nested Parentheses\n",
        "\n",
        "code = \"\"\"\n",
        "x = ((10 + 2) * (5 - 3)) + (20 / (4 + 1));\n",
        "print(x);\n",
        "\"\"\"\n",
        "# Expected Output:\n",
        "# 28.0\n"
      ],
      "metadata": {
        "id": "tsvRV8HKhlDG"
      },
      "execution_count": 290,
      "outputs": []
    },
    {
      "cell_type": "code",
      "source": [
        "# Test Case 8: Multiple Statements\n",
        "\n",
        "code = \"\"\"\n",
        "x = 10;\n",
        "y = 20;\n",
        "z = x + y * 2;\n",
        "print(x);\n",
        "print(y);\n",
        "print(z);\n",
        "\"\"\"\n",
        "# Expected Output:\n",
        "# 10\n",
        "# 20\n",
        "# 50\n"
      ],
      "metadata": {
        "id": "s21ll_4-ho7I"
      },
      "execution_count": 173,
      "outputs": []
    },
    {
      "cell_type": "code",
      "source": [
        "# Test Case 9: Invalid Character\n",
        "\n",
        "code = \"\"\"\n",
        "x = 10 @ 5;\n",
        "\"\"\"\n",
        "# Expected Error:\n",
        "# SyntaxError: Unexpected character: @ at position 6\n"
      ],
      "metadata": {
        "id": "Sd5R1OilhyuL"
      },
      "execution_count": 246,
      "outputs": []
    },
    {
      "cell_type": "code",
      "source": [
        "# Test Case 10: Incomplete Expression\n",
        "\n",
        "code = \"\"\"\n",
        "x = (10 + ;\n",
        "\"\"\"\n",
        "# Expected Error:\n",
        "# SyntaxError: Missing closing parenthesis for expression starting at position 4\n"
      ],
      "metadata": {
        "id": "5zGpznNuhy6Q"
      },
      "execution_count": 232,
      "outputs": []
    },
    {
      "cell_type": "code",
      "source": [
        "# Test Case 11: Unexpected Token\n",
        "\n",
        "code = \"\"\"\n",
        "x = 10 + ;\n",
        "\"\"\"\n",
        "# Expected Error:\n",
        "# SyntaxError: Expected a term after operator +, but found ; at position 4\n"
      ],
      "metadata": {
        "id": "yMtgpghhhzE0"
      },
      "execution_count": 9,
      "outputs": []
    },
    {
      "cell_type": "code",
      "source": [
        "# Test Case 12: Complex Nested Operations\n",
        "\n",
        "code = \"\"\"\n",
        "x = (10 + (5 * 3)) - ((20 / 4) + 2);\n",
        "print(x);\n",
        "\"\"\"\n",
        "# Expected Output:\n",
        "# 18.0\n"
      ],
      "metadata": {
        "id": "BKLtoPgviBk7"
      },
      "execution_count": 13,
      "outputs": []
    },
    {
      "cell_type": "code",
      "source": [
        "tokens = tokenize(code)\n",
        "parser = Parser(tokens)\n",
        "ast = parser.parse()\n",
        "interpreter = Interpreter()\n",
        "interpreter.execute(ast)"
      ],
      "metadata": {
        "colab": {
          "base_uri": "https://localhost:8080/"
        },
        "id": "2kKJQUyCiIz3",
        "outputId": "7ee46cc9-2e64-44a3-db79-918c58fe2095"
      },
      "execution_count": 14,
      "outputs": [
        {
          "output_type": "stream",
          "name": "stdout",
          "text": [
            "18.0\n"
          ]
        }
      ]
    }
  ]
}